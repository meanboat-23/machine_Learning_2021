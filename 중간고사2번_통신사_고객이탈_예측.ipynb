{
  "nbformat": 4,
  "nbformat_minor": 0,
  "metadata": {
    "colab": {
      "name": "중간고사2번 통신사 고객이탈 예측.ipynb",
      "provenance": [],
      "collapsed_sections": [],
      "authorship_tag": "ABX9TyNqzwLUdlUgul8/RAEYro72",
      "include_colab_link": true
    },
    "kernelspec": {
      "name": "python3",
      "display_name": "Python 3"
    },
    "language_info": {
      "name": "python"
    }
  },
  "cells": [
    {
      "cell_type": "markdown",
      "metadata": {
        "id": "view-in-github",
        "colab_type": "text"
      },
      "source": [
        "<a href=\"https://colab.research.google.com/github/meanboat-23/machine_Learning_2021/blob/master/%EC%A4%91%EA%B0%84%EA%B3%A0%EC%82%AC2%EB%B2%88_%ED%86%B5%EC%8B%A0%EC%82%AC_%EA%B3%A0%EA%B0%9D%EC%9D%B4%ED%83%88_%EC%98%88%EC%B8%A1.ipynb\" target=\"_parent\"><img src=\"https://colab.research.google.com/assets/colab-badge.svg\" alt=\"Open In Colab\"/></a>"
      ]
    },
    {
      "cell_type": "code",
      "execution_count": null,
      "metadata": {
        "id": "LWRX2FRiOuWv"
      },
      "outputs": [],
      "source": [
        "# https://www.kaggle.com/c/2021-ml-midterm-p2\n",
        "import pandas as pd\n",
        "\n",
        "sample = pd.read_csv('sample_submit.csv')\n",
        "train = pd.read_csv('train.csv')\n",
        "test = pd.read_csv('test.csv')\n",
        "\n",
        "X_train = train.drop(['index','Unnamed: 0','customerID','Churn'], axis = 1)\n",
        "X_test = test.drop(['index','Unnamed: 0','customerID'], axis = 1)\n",
        "y_train = train['Churn']\n",
        "\n",
        "# 데이터를 살펴보면 중간 몇몇 데이터들이 숫자가 아닌 문자형이여서 실수화 해주어야 한다\n",
        "# 처음 코드를 작성할때 각각의 label들을 아래와 같이 encoder를 하였지만 비효율적이여서 수정\n",
        "#from sklearn.preprocessing import LabelEncoder\n",
        "#classle = LabelEncoder()\n",
        "#X_train['gender'] = classle.fit_transform(train['gender'].values)\n",
        "#X_train['Partner'] = classle.fit_transform(train['Partner'].values)\n",
        "#X_train['Dependents'] = classle.fit_transform(train['Dependents'].values)\n",
        "#X_train['PhoneService'] = classle.fit_transform(train['PhoneService'].values)\n",
        "#X_train['MultipleLines'] = classle.fit_transform(train['MultipleLines'].values)\n",
        "#X_train['InternetService'] = classle.fit_transform(train['InternetService'].values)\n",
        "#X_train['OnlineSecurity'] = classle.fit_transform(train['OnlineSecurity'].values)\n",
        "#X_train['OnlineBackup'] = classle.fit_transform(train['OnlineBackup'].values)\n",
        "#X_train['DeviceProtection'] = classle.fit_transform(train['DeviceProtection'].values)\n",
        "#X_train['TechSupport'] = classle.fit_transform(train['TechSupport'].values)\n",
        "#X_train['StreamingTV'] = classle.fit_transform(train['StreamingTV'].values)\n",
        "#X_train['StreamingMovies'] = classle.fit_transform(train['StreamingMovies'].values)\n",
        "#X_train['Contract'] = classle.fit_transform(train['Contract'].values)\n",
        "#X_train['PaperlessBilling'] = classle.fit_transform(train['PaperlessBilling'].values)\n",
        "#X_train['PaymentMethod'] = classle.fit_transform(train['PaymentMethod'].values)\n",
        "\n",
        "#X_test['gender'] = classle.fit_transform(test['gender'].values)\n",
        "#X_test['Partner'] = classle.fit_transform(test['Partner'].values)\n",
        "#X_test['Dependents'] = classle.fit_transform(test['Dependents'].values)\n",
        "#X_test['PhoneService'] = classle.fit_transform(test['PhoneService'].values)\n",
        "#X_test['MultipleLines'] = classle.fit_transform(test['MultipleLines'].values)\n",
        "#X_test['InternetService'] = classle.fit_transform(test['InternetService'].values)\n",
        "#X_test['OnlineSecurity'] = classle.fit_transform(test['OnlineSecurity'].values)\n",
        "#X_test['OnlineBackup'] = classle.fit_transform(test['OnlineBackup'].values)\n",
        "#X_test['DeviceProtection'] = classle.fit_transform(test['DeviceProtection'].values)\n",
        "#X_test['TechSupport'] = classle.fit_transform(test['TechSupport'].values)\n",
        "#X_test['StreamingTV'] = classle.fit_transform(test['StreamingTV'].values)\n",
        "#X_test['StreamingMovies'] = classle.fit_transform(test['StreamingMovies'].values)\n",
        "#X_test['Contract'] = classle.fit_transform(test['Contract'].values)\n",
        "#X_test['PaperlessBilling'] = classle.fit_transform(test['PaperlessBilling'].values)\n",
        "#X_test['PaymentMethod'] = classle.fit_transform(test['PaymentMethod'].values)"
      ]
    },
    {
      "cell_type": "code",
      "source": [
        "# for문을 이용하여 labelencoder를 실행시 위의 코드보다 훨씬 깔끔하고 효율적\n",
        "label = ['gender','Partner','Dependents','PhoneService','MultipleLines','InternetService','OnlineSecurity','OnlineBackup','DeviceProtection','TechSupport','StreamingTV','StreamingMovies','Contract','PaperlessBilling','PaymentMethod']\n",
        "from sklearn.preprocessing import LabelEncoder\n",
        "for i in label:\n",
        "  classle = LabelEncoder()\n",
        "  X_train[i] = classle.fit_transform(train[i].values)\n",
        "  X_test[i] = classle.fit_transform(test[i].values)"
      ],
      "metadata": {
        "id": "RXQtYkCyguMu"
      },
      "execution_count": null,
      "outputs": []
    },
    {
      "cell_type": "code",
      "source": [
        "#데이터 중간중간에 공백이 있어서 공백을 -1로 채워줌\n",
        "from sklearn.impute import SimpleImputer\n",
        "im = SimpleImputer(missing_values = ' ', strategy = 'constant', fill_value = -1)\n",
        "X_train = im.fit_transform(X_train)"
      ],
      "metadata": {
        "id": "imyDj9IA92nV"
      },
      "execution_count": null,
      "outputs": []
    },
    {
      "cell_type": "code",
      "source": [
        "from sklearn.preprocessing import StandardScaler\n",
        "sc = StandardScaler().fit(X_train)\n",
        "X_train_std = sc.transform(X_train)\n",
        "X_test_std = sc.transform(X_test)"
      ],
      "metadata": {
        "colab": {
          "base_uri": "https://localhost:8080/"
        },
        "id": "mE03e7HD4CwY",
        "outputId": "670a3baa-82b3-4f08-a5df-399162df83ec"
      },
      "execution_count": null,
      "outputs": [
        {
          "output_type": "stream",
          "name": "stderr",
          "text": [
            "/usr/local/lib/python3.7/dist-packages/sklearn/base.py:444: UserWarning: X has feature names, but StandardScaler was fitted without feature names\n",
            "  f\"X has feature names, but {self.__class__.__name__} was fitted without\"\n"
          ]
        }
      ]
    },
    {
      "cell_type": "code",
      "source": [
        "from sklearn.linear_model import LogisticRegression #정규화를 하면 점수가 소폭 상승\n",
        "#Logit = LogisticRegression().fit(X_train, y_train)\n",
        "#y_test = Logit.predict(X_test)\n",
        "Logit = LogisticRegression().fit(X_train_std, y_train)\n",
        "y_test = Logit.predict(X_test_std)"
      ],
      "metadata": {
        "id": "-TTYfrX77K3U"
      },
      "execution_count": null,
      "outputs": []
    },
    {
      "cell_type": "code",
      "source": [
        "#예측한 결과값을 0과 1로 변환해주지 않으면 0점이 나와서 변환\n",
        "y_test[y_test=='No'] = 0\n",
        "y_test[y_test=='Yes'] = 1"
      ],
      "metadata": {
        "id": "tISFZushKznU"
      },
      "execution_count": null,
      "outputs": []
    },
    {
      "cell_type": "code",
      "source": [
        "sample['Churn'] = y_test\n",
        "\n",
        "sample.to_csv('sample_submit.csv', index=False)"
      ],
      "metadata": {
        "id": "Bp5KNSNM8RnV"
      },
      "execution_count": null,
      "outputs": []
    },
    {
      "cell_type": "code",
      "source": [
        "#정규화해주면 0.78964\n",
        "#정규화 안해주면 0.78881"
      ],
      "metadata": {
        "id": "i6V6GsuiJmGd"
      },
      "execution_count": null,
      "outputs": []
    },
    {
      "cell_type": "code",
      "source": [
        ""
      ],
      "metadata": {
        "id": "JzLDASVdiHsB"
      },
      "execution_count": null,
      "outputs": []
    }
  ]
}