{
  "nbformat": 4,
  "nbformat_minor": 0,
  "metadata": {
    "colab": {
      "name": "중간고사4번 보스턴 집값 예측.ipynb",
      "provenance": [],
      "collapsed_sections": [],
      "authorship_tag": "ABX9TyMbf56LA9cBDYG33q4yfrQz",
      "include_colab_link": true
    },
    "kernelspec": {
      "name": "python3",
      "display_name": "Python 3"
    },
    "language_info": {
      "name": "python"
    }
  },
  "cells": [
    {
      "cell_type": "markdown",
      "metadata": {
        "id": "view-in-github",
        "colab_type": "text"
      },
      "source": [
        "<a href=\"https://colab.research.google.com/github/meanboat-23/machine_Learning_2021/blob/master/%EC%A4%91%EA%B0%84%EA%B3%A0%EC%82%AC4%EB%B2%88_%EB%B3%B4%EC%8A%A4%ED%84%B4_%EC%A7%91%EA%B0%92_%EC%98%88%EC%B8%A1.ipynb\" target=\"_parent\"><img src=\"https://colab.research.google.com/assets/colab-badge.svg\" alt=\"Open In Colab\"/></a>"
      ]
    },
    {
      "cell_type": "code",
      "execution_count": null,
      "metadata": {
        "id": "53QVfPI0ewey"
      },
      "outputs": [],
      "source": [
        "import pandas as pd\n",
        "\n",
        "sample = pd.read_csv('sample_submit.csv')\n",
        "train = pd.read_csv('train_update.csv')\n",
        "test = pd.read_csv('test_update.csv')\n",
        "\n",
        "X_train = train.drop(['index','price'], axis = 1)\n",
        "X_test = test.drop(['index'], axis = 1)\n",
        "y_train = train['price']"
      ]
    },
    {
      "cell_type": "code",
      "source": [
        "from sklearn.preprocessing import StandardScaler\n",
        "sc = StandardScaler().fit(X_train)\n",
        "X_train_std = sc.transform(X_train)\n",
        "X_test_std = sc.transform(X_test)"
      ],
      "metadata": {
        "id": "Nwc3Hh8mgGL-"
      },
      "execution_count": null,
      "outputs": []
    },
    {
      "cell_type": "code",
      "source": [
        "from sklearn.neighbors import KNeighborsRegressor\n",
        "#regressor = KNeighborsRegressor().fit(X_train, y_train) #정규화를 하면 점수가 대폭 상승\n",
        "#y_test = regressor.predict(X_test)\n",
        "regressor = KNeighborsRegressor(n_neighbors=3).fit(X_train_std, y_train) #n_neighbors = 2 -> 2.65735, n_neighbors = 2 ->2.83006, default -> 2.91705\n",
        "y_test = regressor.predict(X_test_std)"
      ],
      "metadata": {
        "id": "ZGKd1Djo9DtZ"
      },
      "execution_count": null,
      "outputs": []
    },
    {
      "cell_type": "code",
      "source": [
        "#로지스틱을 사용시 오류발생 'continuous' 오류\n",
        "#from sklearn.linear_model import LogisticRegression\n",
        "#Logit = LogisticRegression().fit(X_train_std, y_train)\n",
        "#y_test = Logit.predict(X_test_std)\n",
        "#Logit = LogisticRegression().fit(X_train, y_train)\n",
        "#y_test = Logit.predict(X_test)"
      ],
      "metadata": {
        "id": "YdG62RvzgcTv"
      },
      "execution_count": null,
      "outputs": []
    },
    {
      "cell_type": "code",
      "source": [
        "sample['price'] = y_test\n",
        "\n",
        "sample.to_csv('sample_submit.csv', index=False)"
      ],
      "metadata": {
        "id": "nSIbqSDNgqo8"
      },
      "execution_count": null,
      "outputs": []
    },
    {
      "cell_type": "code",
      "source": [
        ""
      ],
      "metadata": {
        "id": "rOLlELjb9xyg"
      },
      "execution_count": null,
      "outputs": []
    }
  ]
}