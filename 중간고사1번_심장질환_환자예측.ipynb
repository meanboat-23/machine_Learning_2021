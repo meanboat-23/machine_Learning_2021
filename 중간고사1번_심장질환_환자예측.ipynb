{
  "nbformat": 4,
  "nbformat_minor": 0,
  "metadata": {
    "colab": {
      "name": "중간고사1번 심장질환 환자예측",
      "provenance": [],
      "collapsed_sections": [],
      "authorship_tag": "ABX9TyORGr/5Xu4aQSQMZby3NRM9",
      "include_colab_link": true
    },
    "kernelspec": {
      "name": "python3",
      "display_name": "Python 3"
    },
    "language_info": {
      "name": "python"
    }
  },
  "cells": [
    {
      "cell_type": "markdown",
      "metadata": {
        "id": "view-in-github",
        "colab_type": "text"
      },
      "source": [
        "<a href=\"https://colab.research.google.com/github/meanboat-23/machine_Learning_2021/blob/master/%EC%A4%91%EA%B0%84%EA%B3%A0%EC%82%AC1%EB%B2%88_%EC%8B%AC%EC%9E%A5%EC%A7%88%ED%99%98_%ED%99%98%EC%9E%90%EC%98%88%EC%B8%A1.ipynb\" target=\"_parent\"><img src=\"https://colab.research.google.com/assets/colab-badge.svg\" alt=\"Open In Colab\"/></a>"
      ]
    },
    {
      "cell_type": "code",
      "execution_count": null,
      "metadata": {
        "colab": {
          "base_uri": "https://localhost:8080/"
        },
        "id": "X92MJyEkQb_5",
        "outputId": "7b1f188b-f8ca-45af-ee4c-ce083abee6ce"
      },
      "outputs": [
        {
          "output_type": "stream",
          "name": "stderr",
          "text": [
            "/usr/local/lib/python3.7/dist-packages/ipykernel_launcher.py:23: SettingWithCopyWarning: \n",
            "A value is trying to be set on a copy of a slice from a DataFrame\n",
            "\n",
            "See the caveats in the documentation: https://pandas.pydata.org/pandas-docs/stable/user_guide/indexing.html#returning-a-view-versus-a-copy\n"
          ]
        }
      ],
      "source": [
        "# https://www.kaggle.com/c/2021-ml-midterm-p1\n" ,
        "# 캐글링크" ,
        "import pandas as pd\n",
        "import numpy as np\n",
        "\n",
        "sample = pd.read_csv('sample_submit.csv')\n",
        "train = pd.read_csv('train.csv')\n",
        "test = pd.read_csv('test.csv')\n",
        "\n",
        "X_train = train.drop(['index','target'], axis = 1)\n",
        "X_test = test.drop(['index'],axis = 1)\n",
        "y_train = train['target']\n",
        "\n",
        "#넘파이 형태로 바꾸기\n",
        "#X_train = X_train.to_numpy()\n",
        "#X_test = X_test.to_numpy()\n",
        "#y_train = y_train.to_numpy()\n",
        "\n",
        "from sklearn.impute import SimpleImputer #데이터들을 살펴보니 중간중간에 ? 값이 있어서 -1로 대체해줌\n",
        "im = SimpleImputer(missing_values = '?', strategy = 'constant', fill_value = -1)\n",
        "X_train = im.fit_transform(X_train)\n",
        "X_test = im.fit_transform(X_test)\n",
        "\n",
        "y_train[y_train>1] = 1 #최종 결과 값이 심장질환 유무를 판단하는 것이므로 심장질환의 종류와는 거리가 멀다고 느껴서 1이상의 값을 1로 변환"
      ]
    },
    {
      "cell_type": "code",
      "source": [
        "#정규화 안한것이 점수가 더 높다.\n",
        "#from sklearn.preprocessing import StandardScaler \n",
        "#sc = StandardScaler()\n",
        "#sc.fit(X_train)\n",
        "#X_train_std = sc.transform(X_train)\n",
        "#X_test_std = sc.transform(X_test)"
      ],
      "metadata": {
        "id": "BTZCSEPmYXbs"
      },
      "execution_count": null,
      "outputs": []
    },
    {
      "cell_type": "code",
      "source": [
        "from sklearn.linear_model import LogisticRegression\n",
        "Logit = LogisticRegression().fit(X_train, y_train)\n",
        "y_test = Logit.predict(X_test)\n",
        "#정규화\n",
        "#Logit = LogisticRegression().fit(X_train_std, y_train)\n",
        "#y_test = Logit.predict(X_test_std)"
      ],
      "metadata": {
        "id": "iH4CtFwtYn7y",
        "colab": {
          "base_uri": "https://localhost:8080/"
        },
        "outputId": "d0bd4cd4-12f8-4541-bbc1-2b916dc4d0d8"
      },
      "execution_count": null,
      "outputs": [
        {
          "output_type": "stream",
          "name": "stderr",
          "text": [
            "/usr/local/lib/python3.7/dist-packages/sklearn/linear_model/_logistic.py:818: ConvergenceWarning: lbfgs failed to converge (status=1):\n",
            "STOP: TOTAL NO. of ITERATIONS REACHED LIMIT.\n",
            "\n",
            "Increase the number of iterations (max_iter) or scale the data as shown in:\n",
            "    https://scikit-learn.org/stable/modules/preprocessing.html\n",
            "Please also refer to the documentation for alternative solver options:\n",
            "    https://scikit-learn.org/stable/modules/linear_model.html#logistic-regression\n",
            "  extra_warning_msg=_LOGISTIC_SOLVER_CONVERGENCE_MSG,\n"
          ]
        }
      ]
    },
    {
      "cell_type": "code",
      "source": [
        "sample['target'] = y_test\n",
        "\n",
        "sample.to_csv('sample_submit.csv', index=False)"
      ],
      "metadata": {
        "id": "GxiGgSaAg5Rj"
      },
      "execution_count": null,
      "outputs": []
    },
    {
      "cell_type": "code",
      "source": [
        "#정규화하면 0.78688\n",
        "#정규화 안하면 0.85245"
      ],
      "metadata": {
        "id": "TNXrB-FZhCwX"
      },
      "execution_count": null,
      "outputs": []
    },
    {
      "cell_type": "code",
      "source": [
        ""
      ],
      "metadata": {
        "id": "kFiVR_Vw9qhm"
      },
      "execution_count": null,
      "outputs": []
    }
  ]
}
