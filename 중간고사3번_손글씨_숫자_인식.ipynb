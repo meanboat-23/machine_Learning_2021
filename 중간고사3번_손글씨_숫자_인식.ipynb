{
  "nbformat": 4,
  "nbformat_minor": 0,
  "metadata": {
    "colab": {
      "name": "중간고사3번 손글씨 숫자 인식.ipynb",
      "provenance": [],
      "collapsed_sections": [],
      "authorship_tag": "ABX9TyO7hEoi02fBSlrtMzxPCuFS",
      "include_colab_link": true
    },
    "kernelspec": {
      "name": "python3",
      "display_name": "Python 3"
    },
    "language_info": {
      "name": "python"
    }
  },
  "cells": [
    {
      "cell_type": "markdown",
      "metadata": {
        "id": "view-in-github",
        "colab_type": "text"
      },
      "source": [
        "<a href=\"https://colab.research.google.com/github/meanboat-23/machine_Learning_2021/blob/master/%EC%A4%91%EA%B0%84%EA%B3%A0%EC%82%AC3%EB%B2%88_%EC%86%90%EA%B8%80%EC%94%A8_%EC%88%AB%EC%9E%90_%EC%9D%B8%EC%8B%9D.ipynb\" target=\"_parent\"><img src=\"https://colab.research.google.com/assets/colab-badge.svg\" alt=\"Open In Colab\"/></a>"
      ]
    },
    {
      "cell_type": "code",
      "execution_count": null,
      "metadata": {
        "id": "6Qs7ngeEaSiR"
      },
      "outputs": [],
      "source": [
        "import pandas as pd\n",
        "\n",
        "sample = pd.read_csv('sample_submit.csv')\n",
        "train = pd.read_csv('train.csv')\n",
        "test = pd.read_csv('test.csv')\n",
        "\n",
        "X_train = train.drop(['index','label'],axis = 1)\n",
        "X_test = test.drop(['index'],axis = 1)\n",
        "y_train = train['label']"
      ]
    },
    {
      "cell_type": "code",
      "source": [
        "#로지스틱을 사용한 경우에는 정규화를 해주는것이 더 점수가 높다.\n",
        "#from sklearn.preprocessing import StandardScaler \n",
        "#sc = StandardScaler()\n",
        "#sc.fit(X_train)\n",
        "#X_train_std = sc.transform(X_train)\n",
        "#X_test_std = sc.transform(X_test)"
      ],
      "metadata": {
        "id": "mMVHpud8dK-6"
      },
      "execution_count": null,
      "outputs": []
    },
    {
      "cell_type": "code",
      "source": [
        "#로지스틱을 사용하는것 보다 knn을 사용하는 것이 더 점수가 높다.\n",
        "#from sklearn.linear_model import LogisticRegression\n",
        "#Logit = LogisticRegression().fit(X_train, y_train)\n",
        "#y_test = Logit.predict(X_test)\n",
        "#Logit = LogisticRegression().fit(X_train_std, y_train)\n",
        "#y_test = Logit.predict(X_test_std)"
      ],
      "metadata": {
        "id": "ZlT8pk8VcFXT"
      },
      "execution_count": null,
      "outputs": []
    },
    {
      "cell_type": "code",
      "source": [
        "#knn의 회귀가 아닌 분류로 풀어야 한다. 회귀로 푸는 경우 0점이 나온다.\n",
        "from sklearn.neighbors import KNeighborsClassifier\n",
        "classle = KNeighborsClassifier(n_neighbors=6).fit(X_train, y_train) # n_neighbors = 6 -> 0.98888(최고점), default값 -> 0.98611\n",
        "y_test = classle.predict(X_test)\n",
        "#정규화를 안해주는 것이 더 점수가 높다.\n",
        "#classle = KNeighborsClassifier().fit(X_train_std, y_train)\n",
        "#y_test = classle.predict(X_test_std)"
      ],
      "metadata": {
        "id": "uhQUG-ExOJ6t"
      },
      "execution_count": null,
      "outputs": []
    },
    {
      "cell_type": "code",
      "source": [
        "sample['label'] = y_test\n",
        "\n",
        "sample.to_csv('sample_submit.csv', index=False)"
      ],
      "metadata": {
        "id": "HjUJJuYfcdac"
      },
      "execution_count": null,
      "outputs": []
    },
    {
      "cell_type": "code",
      "source": [
        ""
      ],
      "metadata": {
        "id": "r5ZbSFUzcoTA"
      },
      "execution_count": null,
      "outputs": []
    }
  ]
}